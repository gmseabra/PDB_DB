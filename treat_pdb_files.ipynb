{
 "cells": [
  {
   "cell_type": "markdown",
   "id": "b9f39e80-470e-4ed1-b7b4-4f6c9a525dc7",
   "metadata": {},
   "source": [
    "# Treats PDB Files"
   ]
  },
  {
   "cell_type": "markdown",
   "id": "6679874c-730e-4406-92cf-e1e587de14aa",
   "metadata": {},
   "source": [
    "# Imports"
   ]
  },
  {
   "cell_type": "code",
   "execution_count": 1,
   "id": "fc06f218-c387-4a4a-a738-daa54df048b0",
   "metadata": {},
   "outputs": [],
   "source": [
    "# -- General\n",
    "import pandas as pd\n",
    "import numpy as np\n",
    "import yaml\n",
    "import random\n",
    "import requests\n",
    "#from tqdm import tqdm\n",
    "from tqdm.notebook import tqdm\n",
    "from pathlib import Path"
   ]
  },
  {
   "cell_type": "code",
   "execution_count": 53,
   "id": "b3277883-240b-43b0-96ef-e63f3d9f8fca",
   "metadata": {},
   "outputs": [],
   "source": [
    "# -- IO\n",
    "import io\n",
    "from contextlib import redirect_stdout"
   ]
  },
  {
   "cell_type": "code",
   "execution_count": 2,
   "id": "5ca97240-1d07-4c3a-aec0-bc3f7f21b667",
   "metadata": {},
   "outputs": [],
   "source": [
    "# -- Biopython stuff\n",
    "import Bio.PDB as bp"
   ]
  },
  {
   "cell_type": "code",
   "execution_count": 3,
   "id": "012b3486-60c5-4420-b090-00b75b4b275b",
   "metadata": {},
   "outputs": [
    {
     "name": "stdout",
     "output_type": "stream",
     "text": [
      "RDKit Version:  2022.09.5\n"
     ]
    }
   ],
   "source": [
    "# -- RDKit\n",
    "import rdkit\n",
    "from rdkit import Chem\n",
    "from rdkit.Chem import Draw, PandasTools\n",
    "from rdkit.Chem.Draw import IPythonConsole\n",
    "print(\"RDKit Version: \", rdkit.__version__)"
   ]
  },
  {
   "cell_type": "markdown",
   "id": "dad486c5-4acc-4a1b-ad06-4cee0eb329ce",
   "metadata": {},
   "source": [
    "# Functions"
   ]
  },
  {
   "cell_type": "code",
   "execution_count": 4,
   "id": "de11ad10-f0c4-4462-9e38-eddcbd068e78",
   "metadata": {},
   "outputs": [],
   "source": [
    "def is_het(residue):\n",
    "    ''' Finds out if a given residue is HET\n",
    "    '''\n",
    "    res = residue.id[0]\n",
    "    return res !=\" \" and res !=\"W\""
   ]
  },
  {
   "cell_type": "code",
   "execution_count": 5,
   "id": "f40177aa-7410-46d4-b3e5-95f6141b83ec",
   "metadata": {},
   "outputs": [],
   "source": [
    "def get_heavy_atoms_list(residue):\n",
    "    '''Gets a list of the residue atoms, excluding hydrogens'''\n",
    "    atom_list = []\n",
    "    for atom in residue.get_atoms():\n",
    "        if atom.element != 'H': atom_list.append(atom)\n",
    "    return atom_list"
   ]
  },
  {
   "cell_type": "code",
   "execution_count": 6,
   "id": "8e8b271a-1f47-42ba-9e56-02c153139ea4",
   "metadata": {},
   "outputs": [],
   "source": [
    "def get_ligands(structure, ligand):\n",
    "    '''returns a list of ligand residues in the structure'''\n",
    "    ligands = []\n",
    "    for residue in structure.get_residues():\n",
    "        if residue.resname == ligand: ligands.append(residue)\n",
    "    return ligands"
   ]
  },
  {
   "cell_type": "code",
   "execution_count": 15,
   "id": "02ca0e56-9b79-4770-a972-5b24e621c4d5",
   "metadata": {},
   "outputs": [],
   "source": [
    "class AtomsToPrintSelector(bp.Select):\n",
    "    \"\"\"Class to define the selection atoms\"\"\"\n",
    "    def __init__(self, chains, nonligand_hets=[], remove_waters=True):\n",
    "        self.chains   = [chain.id for chain in chains]\n",
    "        self.nonligand_hets = nonligand_hets\n",
    "        if remove_waters:\n",
    "            self.nonligand_hets.extend(['WAT','HOH'])\n",
    "        return\n",
    "    \n",
    "    def accept_chain(self, chain):\n",
    "        accept = False\n",
    "        if chain.id in self.chains:\n",
    "            accept = True\n",
    "        return accept\n",
    "    \n",
    "    def accept_residue(self, residue):\n",
    "        # Cleans undesirable HETs \n",
    "        accept = True\n",
    "        res = residue.id[0]\n",
    "        if res !=\" \" and residue.resname in self.nonligand_hets:\n",
    "            accept = False\n",
    "        return accept\n",
    "        \n",
    "    def accept_atom(self, atom):\n",
    "        # Eliminate alternate positions\n",
    "        accept = False\n",
    "        if (not atom.is_disordered()) or atom.get_altloc() == \"A\":\n",
    "            atom.set_altloc(\" \")  # Eliminate alt location ID before output.\n",
    "            accept = True\n",
    "        return accept"
   ]
  },
  {
   "cell_type": "code",
   "execution_count": 8,
   "id": "2c961814-ce46-47c5-b63e-b4bde5ce7d34",
   "metadata": {},
   "outputs": [],
   "source": [
    "def count_entries(df):\n",
    "    print(\"Total # records        : \", len(df) )\n",
    "    print(\"Unique PDBIDs          : \", len(df.PDB_ID.unique()) )\n",
    "    print(\"Membrane Proteins      : \", len(df.loc[ df.IS_MEMBRANE == True ].PDB_ID.unique()))"
   ]
  },
  {
   "cell_type": "code",
   "execution_count": 16,
   "id": "dd3e17c1-8ed4-4ff5-94e2-f11fe0c9593c",
   "metadata": {},
   "outputs": [],
   "source": [
    "# Define the 3-letter codes of residues we DON'T want to consiser. \n",
    "# For monoatomic ions, we can also filter by the size of the formula\n",
    "non_spec_ligands = [# -- Common metals, ions and solvents\n",
    "                    '1PE', # PENTAETHYLENE GLYCOL\n",
    "                    '2HT', # 3-methylbenzonitrile\n",
    "                    '2PE', # NONAETHYLENE GLYCOL\n",
    "                    '7PE', # 2-(2-(2-(2-(2-(2-ETHOXYETHOXY)ETHOXY)ETHOXY)ETHOXY)ETHOXY)ETHANOL\n",
    "                    'ACT', # ACETATE ION\n",
    "                    'ACY', # ACETIC ACID\n",
    "                    'AKG', # 2-OXOGLUTARIC ACID\n",
    "                    'BCT', # BICARBONATE ION\n",
    "                    'BR' , # BROMIDE ION\n",
    "                    'BMA', # beta-D-mannopyranose\n",
    "                    'BME', # BETA-MERCAPTOETHANOL\n",
    "                    'BOG', # octyl beta-D-glucopyranoside\n",
    "                    'BU3', # (R,R)-2,3-BUTANEDIOL\n",
    "                    'BUD', # (2S,3S)-butane-2,3-diol\n",
    "                    'CAC', # CACODYLATE ION\n",
    "                    'CIT', # CITRIC ACID\n",
    "                    'CME', # S,S-(2-HYDROXYETHYL)THIOCYSTEINE\n",
    "                    'CO3', # CARBONATE ION\n",
    "                    'DMS', # DIMETHYL SULFOXIDE\n",
    "                    'DTT', # 2,3-DIHYDROXY-1,4-DITHIOBUTANE\n",
    "                    'DTV', # (2S,3S)-1,4-DIMERCAPTOBUTANE-2,3-DIOL\n",
    "                    'EDO', # 1,2-ETHANEDIOL\n",
    "                    'EPE', # 4-(2-HYDROXYETHYL)-1-PIPERAZINE ETHANESULFONIC ACID\n",
    "                    'FES', # FE2/S2 (INORGANIC) CLUSTER\n",
    "                    'FMT', # FORMIC ACID\n",
    "                    'GBL', # GAMMA-BUTYROLACTONE\n",
    "                    'GOL', # GLYCEROL\n",
    "                    'GSH', # GLUTATHIONE\n",
    "                    'HEC', # HEME C\n",
    "                    'HED', # 2-HYDROXYETHYL DISULFIDE\n",
    "                    'HEM', # PROTOPORPHYRIN IX CONTAINING FE\n",
    "                    'IMD', # IMIDAZOLE\n",
    "                    'IOD', # IODIDE ION\n",
    "                    'IPA', # ISOPROPYL ALCOHOL\n",
    "                    'MAN', # alpha-D-mannopyranose\n",
    "                    'MES', # 2-(N-MORPHOLINO)-ETHANESULFONIC ACID\n",
    "                    'MG8', # N-OCTANOYL-N-METHYLGLUCAMINE\n",
    "                    'MLI', # MALONATE ION\n",
    "                    'MPD', # (4S)-2-METHYL-2,4-PENTANEDIOL\n",
    "                    'MYR', # MYRISTIC ACID\n",
    "                    'NAG', # 2-acetamido-2-deoxy-beta-D-glucopyranose\n",
    "                    'NCO', # COBALT HEXAMMINE(III)\n",
    "                    'NH3', # AMMONIA\n",
    "                    'NO3', # NITRATE ION\n",
    "                    'OCT', # N-OCTANE\n",
    "                    'OGA', # N-OXALYLGLYCINE\n",
    "                    'OPG', # OXIRANPSEUDOGLUCOSE\n",
    "                    'P2U', # 2'-DEOXY-PSEUDOURIDINE-5'MONOPHOSPHATE\n",
    "                    'PEG', # DI(HYDROXYETHYL)ETHER\n",
    "                    'PG4', # TETRAETHYLENE GLYCOL\n",
    "                    'PGE', # TRIETHYLENE GLYCOL\n",
    "                    'PGO', # S-1,2-PROPANEDIOL\n",
    "                    'PHO', # PHEOPHYTIN A\n",
    "                    'PI' , # HYDROGENPHOSPHATE ION (INORGANIC PHOSPHATE)\n",
    "                    'PLP', # PYRIDOXAL-5'-PHOSPHATE\n",
    "                    'PO4', # PHOSPHATE ION\n",
    "                    'POP', # PYROPHOSPHATE 2-\n",
    "                    'PSE', # O-PHOSPHOETHANOLAMINE\n",
    "                    'PSU', # PSEUDOURIDINE-5'-MONOPHOSPHATE\n",
    "                    'PTL', # PENTANAL\n",
    "                    'SCN', # THIOCYANATE ION\n",
    "                    'SF4', # IRON/SULFUR CLUSTER\n",
    "                    'F3S', # FE3-S4 CLUSTER\n",
    "                    'SGM', # MONOTHIOGLYCEROL\n",
    "                    'SO4', # SULFATE ION\n",
    "                    'SPD', # SPERMIDINE\n",
    "                    'SPM', # SPERMINE\n",
    "                    'SRT', # S,R MESO-TARTARIC ACID\n",
    "                    'TAM', # TRIS(HYDROXYETHYL)AMINOMETHANE\n",
    "                    'TAR', # D(-)-TARTARIC ACID\n",
    "                    'TFA', # trifluoroacetic acid\n",
    "                    'TLA', # L(+)-TARTARIC ACID\n",
    "                    'TPP', # THIAMINE DIPHOSPHATE\n",
    "                    'TRS', # 2-AMINO-2-HYDROXYMETHYL-PROPANE-1,3-DIOL\n",
    "                    'WO4', # TUNGSTATE(VI)ION\n",
    "                    # -- Small ligands (MW < 50 D) --\n",
    "                    'CO2', # CARBON DIOXIDE\n",
    "                    'PEO', # HYDROGEN PEROXIDE\n",
    "                    'NH4', # AMMONIUM ION\n",
    "                    'EOH', # ETHANOL\n",
    "                    'CCN', # ACETONITRILE\n",
    "                    'MOH', # METHANOL\n",
    "                    'NO2', # NITRITE ION\n",
    "                    'ACE', # ACETYL GROUP\n",
    "                    'MEE', # METHANETHIOL\n",
    "                    '74C', # methyl radical\n",
    "                    'DMN', # DIMETHYLAMINE\n",
    "                    'FOR', # FORMYL GROUP\n",
    "                    'H2S', # HYDROSULFURIC ACID\n",
    "                    'NSM', # NITROSOMETHANE\n",
    "                    'ARF', # FORMAMIDE\n",
    "                    'HOA', # HYDROXYAMINE\n",
    "                    'HZN', # hydrazine\n",
    "                    'N2O', # NITROUS OXIDE\n",
    "                    'D3O', # trideuteriooxidanium\n",
    "                    '0NM', # cyanic acid\n",
    "                    'NH2', # AMINO GROUP\n",
    "                    'TME', # PROPANE\n",
    "                    'C2H', # acetylene\n",
    "                    'NEH', # ETHANAMINE\n",
    "                    'NME', # METHYLAMINE\n",
    "                    'CNN', # CYANAMIDE\n",
    "                    'BF2', # BERYLLIUM DIFLUORIDE\n",
    "                    '2NO', # NITROGEN DIOXIDE\n",
    "                    'MNC', # METHYL ISOCYANIDE\n",
    "                    'HDN', # METHYLHYDRAZINE\n",
    "                    # -- Ligands with 2-letter symbols\n",
    "                    'PC', # 'PHOSPHOCHOLINE'\n",
    "                    'EP', # 'EPOTHILONE A'\n",
    "                    'DC', # \"2'-DEOXYCYTIDINE-5'-MONOPHOSPHATE\"\n",
    "                    '5X', # '5R-(2E-METHYL-3-PHENYL-ALLYL)-3-(BENZENESULFONYLAMINO)-4-OXO-2-THIONOTHIAZOLIDINE'\n",
    "                    'AS', # \"2-DEOXY-ADENOSINE -5'-THIO-MONOPHOSPHATE\"\n",
    "                    'ET', # 'ETHIDIUM'\n",
    "                    'AA', # '9-AMINOACRIDINE'\n",
    "                    'T3', # \"3,5,3'TRIIODOTHYRONINE\"\n",
    "                    'DT', # \"THYMIDINE-5'-MONOPHOSPHATE\"\n",
    "                    '5H', # '5R-(4-BROMOPHENYLMETHYL)-3-(BENZENESULFONYLAMINO)-4-OXO-2-THIONOTHIAZOLIDINE'\n",
    "                    '1N', # '1-[(1~{R},2~{R},4~{S},5~{S})-2,4-bis(4-carbamimidamidophenoxy)-5-[(4-carbamimidamidophenyl)amino]cyclohexyl]guanidine'\n",
    "                    'DU', # \"2'-DEOXYURIDINE-5'-MONOPHOSPHATE\"\n",
    "                    'NQ', # '2-HYDROXYNAPHTHOQUINONE'\n",
    "                    'AO', # 'ACRIDINE ORANGE'\n",
    "                    'MC', # '1,2-CIS-1-HYDROXY-2,7-DIAMINO-MITOSENE'\n",
    "                    'Y3', # '4-ACETYLAMINO-5-HYDROXYNAPHTHALENE-2,7-DISULFONIC ACID'\n",
    "                    'DG', # \"2'-DEOXYGUANOSINE-5'-MONOPHOSPHATE\"\n",
    "                    'DA', # \"2'-DEOXYADENOSINE-5'-MONOPHOSPHATE\"\n",
    "                    'CG', # \"4-AMIDINOINDAN-1-ONE-2'-AMIDINOHYDRAZONE\"\n",
    "                    'VA', # '(Z)-OCTADEC-11-ENYL ACETATE'\n",
    "                    'DI', # \"2'-DEOXYINOSINE-5'-MONOPHOSPHATE\"\n",
    "                    'IU', # \"5-IODOURIDINE-5'-MONOPHOSPHATE\"\n",
    "                    'VI', # '1,3-DIPHENYL-1H-PYRAZOLE-4,5-DICARBOXYLIC ACID'\n",
    "                    'CH', # \"N3-PROTONATED CYTIDINE-5'-MONOPHOSPHATE\"\n",
    "                    'SQ', # '3-ETHYLAMINO-4-METHYLAMINO-CYCLOBUTANE-1,2-DIONE'\n",
    "                    ]"
   ]
  },
  {
   "cell_type": "markdown",
   "id": "2e416047-13fb-4b10-a75f-a9bdbaa05542",
   "metadata": {},
   "source": [
    "# Data"
   ]
  },
  {
   "cell_type": "code",
   "execution_count": 9,
   "id": "06a4af6a-d28c-430b-a169-6143173fc70b",
   "metadata": {},
   "outputs": [],
   "source": [
    "pdb_data           = pd.read_pickle('pdb_full_filtered.pkl')\n",
    "pdb_with_cofactors = pd.read_pickle('pdb_w_cofactors.pkl')\n",
    "pdb_wout_cofactors = pd.read_pickle('pdb_no_cofactors.pkl')"
   ]
  },
  {
   "cell_type": "code",
   "execution_count": 10,
   "id": "979f8c9b-5c47-45fe-b8e1-3f744be0110b",
   "metadata": {},
   "outputs": [
    {
     "name": "stdout",
     "output_type": "stream",
     "text": [
      "--\n",
      "Total # records        :  64567\n",
      "Unique PDBIDs          :  53992\n",
      "Membrane Proteins      :  1970\n",
      "--\n",
      "Total # records        :  5801\n",
      "Unique PDBIDs          :  5708\n",
      "Membrane Proteins      :  100\n",
      "--\n",
      "Total # records        :  58766\n",
      "Unique PDBIDs          :  50588\n",
      "Membrane Proteins      :  1957\n"
     ]
    }
   ],
   "source": [
    "for df in [pdb_data, pdb_with_cofactors, pdb_wout_cofactors]:\n",
    "    print(\"--\")\n",
    "    count_entries(df)"
   ]
  },
  {
   "cell_type": "markdown",
   "id": "beeb7244-ba0a-4573-a557-93020f7422bc",
   "metadata": {},
   "source": [
    "# Retrieve PDB files"
   ]
  },
  {
   "cell_type": "markdown",
   "id": "bcd553de-c274-4d7d-b29c-48c04aa4078f",
   "metadata": {},
   "source": [
    "Files were retrieved using the script `download_pdb_files.py`. 556 files fail to download, with a message that the file doesn't exist, and those sum to 723 entries in `pdb_data`. According to forums, this is caused by some generic error. I tried twice and got exactly the same failures, which means this is likely something on PDB's side, so we'll just remove those from the `pdb_data` dataframe."
   ]
  },
  {
   "cell_type": "code",
   "execution_count": 60,
   "id": "737000c3-d60b-401a-8875-719b22fed73c",
   "metadata": {},
   "outputs": [
    {
     "data": {
      "text/html": [
       "<div>\n",
       "<style scoped>\n",
       "    .dataframe tbody tr th:only-of-type {\n",
       "        vertical-align: middle;\n",
       "    }\n",
       "\n",
       "    .dataframe tbody tr th {\n",
       "        vertical-align: top;\n",
       "    }\n",
       "\n",
       "    .dataframe thead th {\n",
       "        text-align: right;\n",
       "    }\n",
       "</style>\n",
       "<table border=\"1\" class=\"dataframe\">\n",
       "  <thead>\n",
       "    <tr style=\"text-align: right;\">\n",
       "      <th></th>\n",
       "      <th>pdbid</th>\n",
       "      <th>message</th>\n",
       "    </tr>\n",
       "  </thead>\n",
       "  <tbody>\n",
       "    <tr>\n",
       "      <th>533</th>\n",
       "      <td>7ZQC</td>\n",
       "      <td>Desired structure doesn't exist\\n</td>\n",
       "    </tr>\n",
       "    <tr>\n",
       "      <th>10</th>\n",
       "      <td>7NBG</td>\n",
       "      <td>Desired structure doesn't exist\\n</td>\n",
       "    </tr>\n",
       "    <tr>\n",
       "      <th>355</th>\n",
       "      <td>6SXU</td>\n",
       "      <td>Desired structure doesn't exist\\n</td>\n",
       "    </tr>\n",
       "    <tr>\n",
       "      <th>444</th>\n",
       "      <td>6SGM</td>\n",
       "      <td>Desired structure doesn't exist\\n</td>\n",
       "    </tr>\n",
       "    <tr>\n",
       "      <th>107</th>\n",
       "      <td>7Q5I</td>\n",
       "      <td>Desired structure doesn't exist\\n</td>\n",
       "    </tr>\n",
       "  </tbody>\n",
       "</table>\n",
       "</div>"
      ],
      "text/plain": [
       "    pdbid                            message\n",
       "533  7ZQC  Desired structure doesn't exist\\n\n",
       "10   7NBG  Desired structure doesn't exist\\n\n",
       "355  6SXU  Desired structure doesn't exist\\n\n",
       "444  6SGM  Desired structure doesn't exist\\n\n",
       "107  7Q5I  Desired structure doesn't exist\\n"
      ]
     },
     "execution_count": 60,
     "metadata": {},
     "output_type": "execute_result"
    }
   ],
   "source": [
    "failed_downloads = pd.read_csv('failed_downloads.csv')\n",
    "failed_downloads.sample(5)"
   ]
  },
  {
   "cell_type": "code",
   "execution_count": 68,
   "id": "4b383ca7-c736-476f-b9b7-f6af17e7d4fa",
   "metadata": {},
   "outputs": [
    {
     "data": {
      "text/plain": [
       "566"
      ]
     },
     "execution_count": 68,
     "metadata": {},
     "output_type": "execute_result"
    }
   ],
   "source": [
    "pdbs_to_remove = failed_downloads.pdbid.values\n",
    "len(pdbs_to_remove)"
   ]
  },
  {
   "cell_type": "code",
   "execution_count": 80,
   "id": "109e7a97-7a89-43fe-9546-f04650fa2316",
   "metadata": {},
   "outputs": [
    {
     "data": {
      "text/plain": [
       "723"
      ]
     },
     "execution_count": 80,
     "metadata": {},
     "output_type": "execute_result"
    }
   ],
   "source": [
    "len( pdb_data.loc[ pdb_data.PDB_ID.apply(lambda x: x in pdbs_to_remove) ] )"
   ]
  },
  {
   "cell_type": "code",
   "execution_count": 83,
   "id": "bf6f7b76-8831-42ea-ae8d-f7d0fa552c22",
   "metadata": {},
   "outputs": [
    {
     "data": {
      "text/plain": [
       "64567"
      ]
     },
     "execution_count": 83,
     "metadata": {},
     "output_type": "execute_result"
    }
   ],
   "source": [
    "len(pdb_data)"
   ]
  },
  {
   "cell_type": "code",
   "execution_count": 84,
   "id": "afad005f-9229-4739-9a98-47545daf3c27",
   "metadata": {},
   "outputs": [
    {
     "data": {
      "text/plain": [
       "63844"
      ]
     },
     "execution_count": 84,
     "metadata": {},
     "output_type": "execute_result"
    }
   ],
   "source": [
    "pdb_data.drop(pdb_data.loc[ pdb_data.PDB_ID.apply(lambda x: x in pdbs_to_remove) ].index, inplace=True)\n",
    "len(pdb_data)"
   ]
  },
  {
   "cell_type": "markdown",
   "id": "b7a28daf-7857-4b4c-9a93-e8c485d03d51",
   "metadata": {},
   "source": [
    "# Process Files"
   ]
  },
  {
   "cell_type": "raw",
   "id": "791177fa-8e50-4f17-bd5b-17a3dbd625fd",
   "metadata": {},
   "source": [
    "# PDB mmCIF file parser\n",
    "cif_parser = bp.MMCIFParser(QUIET=True)\n",
    "io = bp.PDBIO()"
   ]
  },
  {
   "cell_type": "code",
   "execution_count": 85,
   "id": "e120c01d-a4bc-4f4d-ab9c-e8ec26d324bb",
   "metadata": {},
   "outputs": [],
   "source": [
    "# PDB File parser\n",
    "pdb_parser = bp.PDBParser(get_header=True,QUIET=True)\n",
    "io = bp.PDBIO()"
   ]
  },
  {
   "cell_type": "code",
   "execution_count": 86,
   "id": "4a6a2c5f-8ff4-474d-815e-c9b7acb8672a",
   "metadata": {},
   "outputs": [],
   "source": []
  },
  {
   "cell_type": "code",
   "execution_count": 91,
   "id": "ee9c54e2-2640-498d-bfa7-d545ca7d622f",
   "metadata": {},
   "outputs": [
    {
     "data": {
      "text/plain": [
       "True"
      ]
     },
     "execution_count": 91,
     "metadata": {},
     "output_type": "execute_result"
    }
   ],
   "source": [
    "Path(logfile).is_file()"
   ]
  },
  {
   "cell_type": "code",
   "execution_count": 125,
   "id": "67842abd-7d44-485a-a72c-08d205839089",
   "metadata": {},
   "outputs": [
    {
     "data": {
      "application/vnd.jupyter.widget-view+json": {
       "model_id": "832a5a4694a7438f84b6fd4c470f35dd",
       "version_major": 2,
       "version_minor": 0
      },
      "text/plain": [
       "  0%|          | 0/63844 [00:00<?, ?it/s]"
      ]
     },
     "metadata": {},
     "output_type": "display_data"
    },
    {
     "name": "stdout",
     "output_type": "stream",
     "text": [
      "Processed 63844 entries.\n",
      "63837 entries were OK\n"
     ]
    },
    {
     "ename": "AttributeError",
     "evalue": "'dict' object has no attribute 'idx'",
     "output_type": "error",
     "traceback": [
      "\u001b[0;31m---------------------------------------------------------------------------\u001b[0m",
      "\u001b[0;31mAttributeError\u001b[0m                            Traceback (most recent call last)",
      "Cell \u001b[0;32mIn[125], line 98\u001b[0m\n\u001b[1;32m     96\u001b[0m \u001b[38;5;28mprint\u001b[39m(\u001b[38;5;124mf\u001b[39m\u001b[38;5;124m\"\u001b[39m\u001b[38;5;124mProcessed \u001b[39m\u001b[38;5;132;01m{\u001b[39;00m\u001b[38;5;28mlen\u001b[39m(pdb_data)\u001b[38;5;132;01m}\u001b[39;00m\u001b[38;5;124m entries.\u001b[39m\u001b[38;5;124m\"\u001b[39m)\n\u001b[1;32m     97\u001b[0m \u001b[38;5;28mprint\u001b[39m(\u001b[38;5;124mf\u001b[39m\u001b[38;5;124m\"\u001b[39m\u001b[38;5;132;01m{\u001b[39;00msuccess\u001b[38;5;132;01m}\u001b[39;00m\u001b[38;5;124m entries were OK\u001b[39m\u001b[38;5;124m\"\u001b[39m)\n\u001b[0;32m---> 98\u001b[0m \u001b[38;5;28mprint\u001b[39m(\u001b[38;5;124mf\u001b[39m\u001b[38;5;124m\"\u001b[39m\u001b[38;5;132;01m{\u001b[39;00m\u001b[38;5;28mlen\u001b[39m(\u001b[43mdf_errors\u001b[49m\u001b[38;5;241;43m.\u001b[39;49m\u001b[43midx\u001b[49m)\u001b[38;5;132;01m}\u001b[39;00m\u001b[38;5;124m entries had errors.\u001b[39m\u001b[38;5;124m\"\u001b[39m)\n",
      "\u001b[0;31mAttributeError\u001b[0m: 'dict' object has no attribute 'idx'"
     ]
    }
   ],
   "source": [
    "debug=False\n",
    "df_errors = {\"idx\": [], \"reason\":[]}\n",
    "success = 0\n",
    "cutoff_dist = 10.0\n",
    "root_dir = Path(\".\")\n",
    "logfile = Path(\".\",\"pdb_process.log\")\n",
    "with open(logfile,'w') as lf:\n",
    "    \n",
    "    for idx, row in tqdm(pdb_data.iterrows(), total=len(pdb_data)):\n",
    "\n",
    "        pdb_id = row.PDB_ID\n",
    "        lig_id = row.LIG_ID\n",
    "\n",
    "        orig_dir = Path(orig_root, pdb_id[:2])\n",
    "        \n",
    "        targets_dir = Path(root_dir,\"processed\",\"targets\", pdb_id[:2])\n",
    "        ligands_dir = Path(root_dir,\"processed\",\"ligands\", pdb_id[:2])\n",
    "        targets_dir.mkdir(exist_ok=True, parents=True)\n",
    "        ligands_dir.mkdir(exist_ok=True, parents=True)\n",
    "\n",
    "        # Original PDB file\n",
    "        orig_file = Path(orig_dir,f\"pdb{pdb_id.lower()}.ent\")\n",
    "        if not orig_file.is_file():\n",
    "            lf.write(f\"FILE ERROR: (df_index: {idx})  Could not find file: {orig_file} for PDB entry {pdb_id} \\n\")\n",
    "            df_errors[\"idx\"].append(idx)\n",
    "            df_errors[\"reason\"].append(\"PDB File not found\")\n",
    "            continue\n",
    "\n",
    "        # Processed PDBs\n",
    "        target_file = Path(targets_dir, f\"{pdb_id}-{lig_id}_target.pdb\")\n",
    "        ligand_file = Path(ligands_dir, f\"{pdb_id}-{lig_id}_ligand.pdb\")\n",
    "        if target_file.is_file() and ligand_file.is_file():\n",
    "            # This PDB has already been processsed\n",
    "            success += 1\n",
    "            continue\n",
    "            \n",
    "        # Read the PDB file\n",
    "        struct = pdb_parser.get_structure(pdb_id, orig_file)[0]\n",
    "        \n",
    "        # We will rename all ligand chains to \"Y\"\n",
    "        # If there's a chain named \"Y\", we need to rename it to something else\n",
    "        # Some PDB files have irregular chain names, such as \"AAA\". Here we fix that\n",
    "        for chain in struct.get_chains():\n",
    "            if len(chain.id) > 1: chain.id = chain.id[0]\n",
    "            if chain.id == \"Y\": chain.id = \" \"\n",
    "        \n",
    "        # Sometimes, the same ligand appears more than once in the same chain.\n",
    "        # Here we choose to eliminate these repetitions.\n",
    "        ligs = get_ligands(struct, lig_id)\n",
    "        if len(ligs) == 0:\n",
    "            lf.write(f\"LIGAND ERROR: (df_index: {idx})  Could not find ligand {lig_id} in PDB entry {pdb_id} \\n\")\n",
    "            df_errors[\"idx\"].append(idx)\n",
    "            df_errors[\"reason\"].append(\"Ligand not found\")\n",
    "            continue\n",
    "        lig = ligs[0]\n",
    "        \n",
    "        # Remove all other copies of the ligand\n",
    "        for ligand in ligs:\n",
    "            orig_chain = ligand.get_parent()\n",
    "            ligand.detach_parent()\n",
    "            orig_chain.detach_child(ligand.get_id())\n",
    "\n",
    "        # For convenience, make ligants to be in chain \"Y\"\n",
    "        chain_Y = bp.Chain.Chain('Y')\n",
    "        lig.set_parent(chain_Y)\n",
    "        chain_Y.add(lig)\n",
    "        struct.add(chain_Y)\n",
    "        if debug: lf.write(f\"  Converted to: {lig.resname} :: {lig.full_id} \\n\")\n",
    "        \n",
    "        \n",
    "        # Find all chains with any atoms within cutoff_dist from the ligand\n",
    "        neighbor_searcher = bp.NeighborSearch(bp.Selection.unfold_entities(struct, 'A'), bucket_size=10)\n",
    "\n",
    "        closest = set()\n",
    "        for atom in get_heavy_atoms_list(lig):\n",
    "            closest = closest | set(neighbor_searcher.search(atom.coord,cutoff_dist, level='C'))\n",
    "        # neighbor.searcher returns a list that *includes* the ligand. Remove it.\n",
    "        closest = closest - set([chain_Y])\n",
    "        if debug: lf.write(f\"  Found chains within {cutoff_dist} Angstroms of ligand atoms: {closest}\\n\")\n",
    "        \n",
    "        \n",
    "        # Save the final PDB files\n",
    "        # Save a PDB file with the ligand only\n",
    "        selector = AtomsToPrintSelector([chain_Y], nonligand_hets=non_spec_ligands, remove_waters=True)\n",
    "        io.set_structure(struct)\n",
    "        io.save(str(ligand_file),select=selector,\n",
    "                write_end=True, preserve_atom_numbering=False)\n",
    "\n",
    "        # Save only the atoms from these chains to a new PDB file\n",
    "        selector = AtomsToPrintSelector(closest, nonligand_hets=non_spec_ligands, remove_waters=True)\n",
    "        io.set_structure(struct)\n",
    "        io.save(str(target_file),select=selector,\n",
    "                write_end=True, preserve_atom_numbering=False)\n",
    "        success += 1\n",
    "    \n",
    "print(f\"Processed {len(pdb_data)} entries.\")\n",
    "print(f\"{success} entries were OK\")\n",
    "print(f\"{len(df_errors[\"idx\"])} entries had errors.\")"
   ]
  },
  {
   "cell_type": "code",
   "execution_count": null,
   "id": "f131f33c-7446-4a85-beee-df459e07abd6",
   "metadata": {},
   "outputs": [],
   "source": []
  }
 ],
 "metadata": {
  "kernelspec": {
   "display_name": "biopython",
   "language": "python",
   "name": "biopython"
  },
  "language_info": {
   "codemirror_mode": {
    "name": "ipython",
    "version": 3
   },
   "file_extension": ".py",
   "mimetype": "text/x-python",
   "name": "python",
   "nbconvert_exporter": "python",
   "pygments_lexer": "ipython3",
   "version": "3.11.0"
  }
 },
 "nbformat": 4,
 "nbformat_minor": 5
}
