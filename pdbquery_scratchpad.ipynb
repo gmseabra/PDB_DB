{
 "cells": [
  {
   "cell_type": "markdown",
   "id": "7b0a8533-1512-42f1-b34b-5364f3b63ffd",
   "metadata": {},
   "source": [
    "# General Imports"
   ]
  },
  {
   "cell_type": "code",
   "execution_count": 1,
   "id": "22b96dc6-87f5-4409-ad9f-f423074ccf7f",
   "metadata": {},
   "outputs": [],
   "source": [
    "import pandas as pd\n",
    "import numpy as np\n",
    "import yaml\n",
    "import random\n",
    "import requests\n",
    "#from tqdm import tqdm\n",
    "from tqdm.notebook import tqdm"
   ]
  },
  {
   "cell_type": "markdown",
   "id": "eeebd3ae-8e8b-4f80-a0d1-950f004b257a",
   "metadata": {},
   "source": [
    "# Using BioPython"
   ]
  },
  {
   "cell_type": "code",
   "execution_count": 2,
   "id": "2407e689-04f6-484d-a235-389ce7d7cc6d",
   "metadata": {},
   "outputs": [],
   "source": [
    "import Bio.PDB as bp\n",
    "from pathlib import Path"
   ]
  },
  {
   "cell_type": "code",
   "execution_count": 29,
   "id": "624d6e33-6b31-40e0-8c22-fe956e87089a",
   "metadata": {},
   "outputs": [],
   "source": [
    "def is_het(residue):\n",
    "    ''' Finds out if a given residue is HET\n",
    "        \n",
    "        The residue id is a tuple with 3 elements:\n",
    "        \n",
    "        full_id[0] = Hetero flag = \"H_\"+resname for hets, or \"W\" for water.\n",
    "        full_id[1] = Sequence identifier (resnumber)\n",
    "        full_is[2] = Insertion code (needed when a second residue with same number is\n",
    "                     inserted in the sequence, e.g., by inserting a new residue).\n",
    "                     This is NOT the chain ID.\n",
    "                     \n",
    "        For example, for a \"glucose\", the result of residue.id \n",
    "        could be something like: \"('H_GLC', 100, 'A')\"\n",
    "    \n",
    "    '''\n",
    "    res = residue.id[0]\n",
    "    return res !=\" \" and res !=\"W\""
   ]
  },
  {
   "cell_type": "code",
   "execution_count": 4,
   "id": "e2d7c297-538d-47c3-9881-e78e8516b2ff",
   "metadata": {},
   "outputs": [],
   "source": [
    "# PDB mmCIF file parser\n",
    "cif_parser = bp.MMCIFParser()"
   ]
  },
  {
   "cell_type": "code",
   "execution_count": 5,
   "id": "9f50219a-74ec-47ab-b198-6cf4dda697d4",
   "metadata": {
    "tags": []
   },
   "outputs": [
    {
     "name": "stdout",
     "output_type": "stream",
     "text": [
      "/home/seabra/work/li/databases/pdb_db\n"
     ]
    }
   ],
   "source": [
    "!pwd"
   ]
  },
  {
   "cell_type": "code",
   "execution_count": 6,
   "id": "49be1289-97d2-408f-8d89-db5f107a267d",
   "metadata": {},
   "outputs": [
    {
     "name": "stdout",
     "output_type": "stream",
     "text": [
      "File: ./pdb/10/101m.cif exists? True\n"
     ]
    }
   ],
   "source": [
    "pdbid = \"101M\"\n",
    "\n",
    "mmcif_file = f\"./pdb/{pdbid[:2]}/{pdbid.lower()}.cif\"\n",
    "print(f\"File: {mmcif_file} exists? {Path(mmcif_file).is_file()}\")\n",
    "struct = cif_parser.get_structure(pdbid, mmcif_file)"
   ]
  },
  {
   "cell_type": "code",
   "execution_count": 7,
   "id": "0226f8d4-1716-4837-8e9c-1037ebdb9966",
   "metadata": {},
   "outputs": [
    {
     "data": {
      "text/plain": [
       "'101M'"
      ]
     },
     "execution_count": 7,
     "metadata": {},
     "output_type": "execute_result"
    }
   ],
   "source": [
    "struct.id"
   ]
  },
  {
   "cell_type": "code",
   "execution_count": 8,
   "id": "e15101b9-4083-4538-afcc-115febf767c6",
   "metadata": {},
   "outputs": [
    {
     "data": {
      "text/plain": [
       "{'name': 'SPERM WHALE MYOGLOBIN F46V N-BUTYL ISOCYANIDE AT PH 9.0',\n",
       " 'head': 'OXYGEN TRANSPORT',\n",
       " 'idcode': '101M',\n",
       " 'deposition_date': '1997-12-13',\n",
       " 'structure_method': 'X-RAY DIFFRACTION',\n",
       " 'resolution': 2.07}"
      ]
     },
     "execution_count": 8,
     "metadata": {},
     "output_type": "execute_result"
    }
   ],
   "source": [
    "struct.header"
   ]
  },
  {
   "cell_type": "code",
   "execution_count": 9,
   "id": "2550ec2c-fb81-443f-b87e-76a12bcf67ca",
   "metadata": {},
   "outputs": [
    {
     "data": {
      "text/plain": [
       "2.07"
      ]
     },
     "execution_count": 9,
     "metadata": {},
     "output_type": "execute_result"
    }
   ],
   "source": [
    "struct.header['resolution']"
   ]
  },
  {
   "cell_type": "code",
   "execution_count": 10,
   "id": "e6e1857d-838d-4004-8097-9f6a63f20f14",
   "metadata": {},
   "outputs": [
    {
     "data": {
      "text/plain": [
       "[<Model id=0>]"
      ]
     },
     "execution_count": 10,
     "metadata": {},
     "output_type": "execute_result"
    }
   ],
   "source": [
    "struct.child_list"
   ]
  },
  {
   "cell_type": "code",
   "execution_count": 15,
   "id": "b5365eeb-cc4f-4e83-a4f7-24c9a4ea51c0",
   "metadata": {},
   "outputs": [
    {
     "name": "stdout",
     "output_type": "stream",
     "text": [
      "Full ID:  ('101M', 0, 'A')\n",
      "ID:  A\n",
      "Level:  C\n"
     ]
    }
   ],
   "source": [
    "for chain in struct.get_chains():\n",
    "    print(\"Full ID: \", chain.full_id)\n",
    "    print(\"ID: \", chain.id)\n",
    "    print(\"Level: \", chain.level)"
   ]
  },
  {
   "cell_type": "code",
   "execution_count": 17,
   "id": "b817c275-d19b-45a5-b654-9beedb60471b",
   "metadata": {},
   "outputs": [
    {
     "name": "stdout",
     "output_type": "stream",
     "text": [
      "{}\n"
     ]
    }
   ],
   "source": [
    "for chain in struct.get_chains():\n",
    "    print(chain.xtra)"
   ]
  },
  {
   "cell_type": "code",
   "execution_count": 20,
   "id": "44fb3c05-9cd1-44c0-be24-5c7cf73a856f",
   "metadata": {},
   "outputs": [
    {
     "name": "stdout",
     "output_type": "stream",
     "text": [
      "('101M', 0, 'A', ('H_SO4', 157, ' ')) SO4\n",
      "('101M', 0, 'A', ('H_HEM', 155, ' ')) HEM\n",
      "('101M', 0, 'A', ('H_NBN', 156, ' ')) NBN\n"
     ]
    }
   ],
   "source": [
    "for residue in struct.get_residues():\n",
    "    if is_het(residue): print(residue.full_id, residue.resname)"
   ]
  },
  {
   "cell_type": "markdown",
   "id": "14b617f2-b443-46af-b11a-5f6c011b47d0",
   "metadata": {},
   "source": [
    "This means we will need to remove the ions as well when making the PDB file. "
   ]
  },
  {
   "cell_type": "code",
   "execution_count": 21,
   "id": "82f91b0f-11c7-4d53-be51-008f9ceaf858",
   "metadata": {},
   "outputs": [],
   "source": [
    "def get_hets(structure):\n",
    "    '''returns a list of HETS in the structure'''\n",
    "    hets = []\n",
    "    for residue in structure.get_residues():\n",
    "        if is_het(residue): hets.append(residue)\n",
    "    return hets"
   ]
  },
  {
   "cell_type": "code",
   "execution_count": 22,
   "id": "c6fce0db-d668-4aba-af85-d1f40e27d297",
   "metadata": {},
   "outputs": [],
   "source": [
    "def select_residue(structure,full_res_id):\n",
    "    '''Selects a residue given its full ID'''\n",
    "    _pdbid = full_res_id[0]\n",
    "    _model = full_res_id[1]\n",
    "    _chain = full_res_id[2]\n",
    "    _resnum= full_res_id[3][1]\n",
    "    return "
   ]
  },
  {
   "cell_type": "code",
   "execution_count": 25,
   "id": "27388f14-683c-43bc-afce-7aaaf35ac561",
   "metadata": {},
   "outputs": [
    {
     "data": {
      "text/plain": [
       "[<Residue SO4 het=H_SO4 resseq=157 icode= >,\n",
       " <Residue HEM het=H_HEM resseq=155 icode= >,\n",
       " <Residue NBN het=H_NBN resseq=156 icode= >]"
      ]
     },
     "execution_count": 25,
     "metadata": {},
     "output_type": "execute_result"
    }
   ],
   "source": [
    "hets = get_hets(struct)\n",
    "hets"
   ]
  },
  {
   "cell_type": "code",
   "execution_count": 93,
   "id": "8e6a1a2d-3acf-4cc9-9a5f-0dadf7a6a78e",
   "metadata": {},
   "outputs": [
    {
     "data": {
      "text/plain": [
       "'NBN'"
      ]
     },
     "execution_count": 93,
     "metadata": {},
     "output_type": "execute_result"
    }
   ],
   "source": [
    "lig = hets[2]\n",
    "lig.resname"
   ]
  },
  {
   "cell_type": "code",
   "execution_count": 94,
   "id": "e8850945-9fab-48ce-a266-1c22592ea01d",
   "metadata": {},
   "outputs": [
    {
     "data": {
      "text/plain": [
       "('X', ('H_NBN', 156, ' '))"
      ]
     },
     "execution_count": 94,
     "metadata": {},
     "output_type": "execute_result"
    }
   ],
   "source": [
    "# The `full_id` includes all information:\n",
    "# (pdb_code, model, chain, residue_id)\n",
    "lig.full_id"
   ]
  },
  {
   "cell_type": "code",
   "execution_count": 30,
   "id": "b8418276-5967-4b43-9a8f-e2df9f2ee374",
   "metadata": {},
   "outputs": [
    {
     "data": {
      "text/plain": [
       "('H_NBN', 156, ' ')"
      ]
     },
     "execution_count": 30,
     "metadata": {},
     "output_type": "execute_result"
    }
   ],
   "source": [
    "# Just the residue_id, which includes:\n",
    "# (hetero_flag, sequence_number, sequence_modifier (NOT CHAIN))\n",
    "lig.id"
   ]
  },
  {
   "cell_type": "code",
   "execution_count": 31,
   "id": "f8fa56e7-0cad-4a90-ba29-758d849514dd",
   "metadata": {},
   "outputs": [],
   "source": [
    "def get_atoms_list(ligand):\n",
    "    '''Gets a list of the ligand atoms, excluding hydrogens'''\n",
    "    atom_list = []\n",
    "    for atom in ligand.get_atoms():\n",
    "        if atom.element != 'H': atom_list.append(atom)\n",
    "    return atom_list"
   ]
  },
  {
   "cell_type": "code",
   "execution_count": 32,
   "id": "5cafd079-8136-4872-9c45-5617ffa059b9",
   "metadata": {},
   "outputs": [
    {
     "data": {
      "text/plain": [
       "[<Atom C>, <Atom N>, <Atom C1>, <Atom C2>, <Atom C3>, <Atom C4>]"
      ]
     },
     "execution_count": 32,
     "metadata": {},
     "output_type": "execute_result"
    }
   ],
   "source": [
    "lig.child_list"
   ]
  },
  {
   "cell_type": "code",
   "execution_count": 36,
   "id": "33efc544-4479-4317-84fb-2fd35a5194ec",
   "metadata": {},
   "outputs": [],
   "source": [
    "# Creates a neighbor search object containing ONLY the atoms of the ligand,\n",
    "# with a radius of 10A. Notice it only returns atoms from the ligand itself!\n",
    "neighbor_searcher = bp.NeighborSearch(get_atoms_list(lig), bucket_size=10)"
   ]
  },
  {
   "cell_type": "code",
   "execution_count": 37,
   "id": "802eff96-0fc9-45e1-8edd-44a7d60721e7",
   "metadata": {},
   "outputs": [
    {
     "data": {
      "text/plain": [
       "[(<Atom C>, <Atom N>),\n",
       " (<Atom C>, <Atom C1>),\n",
       " (<Atom C>, <Atom C2>),\n",
       " (<Atom C>, <Atom C3>),\n",
       " (<Atom C>, <Atom C4>),\n",
       " (<Atom N>, <Atom C1>),\n",
       " (<Atom N>, <Atom C2>),\n",
       " (<Atom N>, <Atom C3>),\n",
       " (<Atom N>, <Atom C4>),\n",
       " (<Atom C1>, <Atom C2>),\n",
       " (<Atom C1>, <Atom C3>),\n",
       " (<Atom C1>, <Atom C4>),\n",
       " (<Atom C2>, <Atom C3>),\n",
       " (<Atom C2>, <Atom C4>),\n",
       " (<Atom C3>, <Atom C4>)]"
      ]
     },
     "execution_count": 37,
     "metadata": {},
     "output_type": "execute_result"
    }
   ],
   "source": [
    "neighbor_searcher.search_all(radius=10,level='A')"
   ]
  },
  {
   "cell_type": "code",
   "execution_count": 39,
   "id": "418bb715-b155-456d-83d3-f2aec60f5e11",
   "metadata": {},
   "outputs": [
    {
     "data": {
      "text/plain": [
       "1413"
      ]
     },
     "execution_count": 39,
     "metadata": {},
     "output_type": "execute_result"
    }
   ],
   "source": [
    "# Gets a list of *all* atoms in the structure\n",
    "atoms  = bp.Selection.unfold_entities(struct, 'A')\n",
    "len(atoms)"
   ]
  },
  {
   "cell_type": "code",
   "execution_count": 40,
   "id": "0dc7fec0-2efd-4798-9f4a-86f4f8138f4c",
   "metadata": {
    "tags": []
   },
   "outputs": [],
   "source": [
    "# Now we can create a NeighborSearch object with all the atoms in the \n",
    "# structure, where it finds all neighbors within 10A of each other:\n",
    "neighbor_searcher = bp.NeighborSearch(atoms, bucket_size=10)"
   ]
  },
  {
   "cell_type": "code",
   "execution_count": 46,
   "id": "e5ef51df-8ffe-4e4e-85e5-57126a5a5880",
   "metadata": {},
   "outputs": [
    {
     "name": "stdout",
     "output_type": "stream",
     "text": [
      "<Atom C> [36.437  5.629 11.224]\n",
      "5\n",
      "<Atom N> [36.674  6.332 11.97 ]\n",
      "6\n",
      "<Atom C1> [37.691  6.621 13.103]\n",
      "7\n",
      "<Atom C2> [38.602  5.446 13.328]\n",
      "8\n",
      "<Atom C3> [39.713  5.441 12.363]\n",
      "9\n",
      "<Atom C4> [40.675  4.358 12.79 ]\n",
      "9\n",
      "{<Residue HIS het=  resseq=64 icode= >, <Residue VAL het=  resseq=68 icode= >, <Residue NBN het=H_NBN resseq=156 icode= >, <Residue HEM het=H_HEM resseq=155 icode= >, <Residue LEU het=  resseq=29 icode= >, <Residue THR het=  resseq=67 icode= >, <Residue PHE het=  resseq=43 icode= >, <Residue HIS het=  resseq=93 icode= >, <Residue HOH het=W resseq=220 icode= >}\n"
     ]
    }
   ],
   "source": [
    "# This gets a lilst of all residues within 5 angstroms of the ligand\n",
    "closest = set()\n",
    "for atom in get_atoms_list(lig):\n",
    "    print(atom, atom.coord)\n",
    "    #print(neighbor_searcher.search(atom.coord,5, level='R'))\n",
    "    closest = closest | set(neighbor_searcher.search(atom.coord,5, level='R'))\n",
    "    print(len(closest))\n",
    "    \n",
    "print(closest)"
   ]
  },
  {
   "cell_type": "code",
   "execution_count": 48,
   "id": "ba3006f0-1228-4007-a3fb-5258051f77fd",
   "metadata": {},
   "outputs": [
    {
     "name": "stdout",
     "output_type": "stream",
     "text": [
      "[<Atom N>, <Atom CA>, <Atom C>, <Atom O>, <Atom CB>, <Atom CG>, <Atom ND1>, <Atom CD2>, <Atom CE1>, <Atom NE2>]\n"
     ]
    }
   ],
   "source": [
    "for res in struct.get_residues():\n",
    "    resnum = res.get_id()[1]\n",
    "    if resnum == 93:\n",
    "        print(get_atoms_list(res))"
   ]
  },
  {
   "cell_type": "code",
   "execution_count": 49,
   "id": "2ddef9a6-3215-4270-85ee-6470ecf88d6a",
   "metadata": {},
   "outputs": [
    {
     "name": "stdout",
     "output_type": "stream",
     "text": [
      "<Atom C> [36.437  5.629 11.224]\n",
      "1\n",
      "<Atom N> [36.674  6.332 11.97 ]\n",
      "1\n",
      "<Atom C1> [37.691  6.621 13.103]\n",
      "1\n",
      "<Atom C2> [38.602  5.446 13.328]\n",
      "1\n",
      "<Atom C3> [39.713  5.441 12.363]\n",
      "1\n",
      "<Atom C4> [40.675  4.358 12.79 ]\n",
      "1\n",
      "{<Chain id=A>}\n"
     ]
    }
   ],
   "source": [
    "# This gets a list of all chains with residues within 5 angstroms of the ligand\n",
    "closest = set()\n",
    "for atom in get_atoms_list(lig):\n",
    "    print(atom, atom.coord)\n",
    "    #print(neighbor_searcher.search(atom.coord,5, level='R'))\n",
    "    closest = closest | set(neighbor_searcher.search(atom.coord,5, level='C'))\n",
    "    print(len(closest))\n",
    "    \n",
    "print(closest)"
   ]
  },
  {
   "cell_type": "code",
   "execution_count": null,
   "id": "57511c72-fd2f-45fe-b78f-89663d94fc11",
   "metadata": {},
   "outputs": [],
   "source": []
  },
  {
   "cell_type": "markdown",
   "id": "f42036df-c715-42de-819e-cae6df986728",
   "metadata": {},
   "source": [
    "# Testing a workflow"
   ]
  },
  {
   "cell_type": "code",
   "execution_count": 106,
   "id": "dd2ae4f4-8f1a-481f-8e3f-e2ce36c38edb",
   "metadata": {},
   "outputs": [],
   "source": [
    "# Read PDB data\n",
    "pdb_data = pd.read_pickle('pdb_no_cofactors.pkl').sample(5)"
   ]
  },
  {
   "cell_type": "code",
   "execution_count": 107,
   "id": "a89848fa-d73f-483a-b0f6-5074d45d3240",
   "metadata": {},
   "outputs": [
    {
     "data": {
      "text/html": [
       "<div>\n",
       "<style scoped>\n",
       "    .dataframe tbody tr th:only-of-type {\n",
       "        vertical-align: middle;\n",
       "    }\n",
       "\n",
       "    .dataframe tbody tr th {\n",
       "        vertical-align: top;\n",
       "    }\n",
       "\n",
       "    .dataframe thead th {\n",
       "        text-align: right;\n",
       "    }\n",
       "</style>\n",
       "<table border=\"1\" class=\"dataframe\">\n",
       "  <thead>\n",
       "    <tr style=\"text-align: right;\">\n",
       "      <th></th>\n",
       "      <th>PDB_ID</th>\n",
       "      <th>RESOLUTION</th>\n",
       "      <th>POLY_NAME</th>\n",
       "      <th>POLY_TYPE</th>\n",
       "      <th>POLY_CHAINS</th>\n",
       "      <th>IS_MEMBRANE</th>\n",
       "      <th>LIG_ID</th>\n",
       "      <th>LIG_CHAINS</th>\n",
       "      <th>LIG_NAME</th>\n",
       "      <th>LIG_SMILES</th>\n",
       "      <th>LIG_TYPE</th>\n",
       "      <th>LIG_MW</th>\n",
       "      <th>INVESTIGN?</th>\n",
       "    </tr>\n",
       "  </thead>\n",
       "  <tbody>\n",
       "    <tr>\n",
       "      <th>75198</th>\n",
       "      <td>7KJQ</td>\n",
       "      <td>1.35</td>\n",
       "      <td>Transcriptional regulator, MarR family</td>\n",
       "      <td>Protein</td>\n",
       "      <td>['A']</td>\n",
       "      <td>False</td>\n",
       "      <td>WOM</td>\n",
       "      <td>['A']</td>\n",
       "      <td>Picloram</td>\n",
       "      <td>c1(c(c(nc(c1Cl)Cl)C(=O)O)Cl)N</td>\n",
       "      <td>non-polymer</td>\n",
       "      <td>241.459</td>\n",
       "      <td>0.0</td>\n",
       "    </tr>\n",
       "    <tr>\n",
       "      <th>26009</th>\n",
       "      <td>6LG7</td>\n",
       "      <td>1.83</td>\n",
       "      <td>Bromodomain-containing protein 4</td>\n",
       "      <td>Protein</td>\n",
       "      <td>['A']</td>\n",
       "      <td>False</td>\n",
       "      <td>ECF</td>\n",
       "      <td>['A']</td>\n",
       "      <td>2-azanyl-6-fluoranyl-4-imidazol-1-yl-quinolin-...</td>\n",
       "      <td>c1cn(cn1)c2cc(nc3c2cc(cc3O)F)N</td>\n",
       "      <td>non-polymer</td>\n",
       "      <td>244.224</td>\n",
       "      <td>1.0</td>\n",
       "    </tr>\n",
       "    <tr>\n",
       "      <th>54011</th>\n",
       "      <td>2ZA0</td>\n",
       "      <td>1.70</td>\n",
       "      <td>Glyoxalase I</td>\n",
       "      <td>Protein</td>\n",
       "      <td>['B', 'A']</td>\n",
       "      <td>False</td>\n",
       "      <td>MGI</td>\n",
       "      <td>['A']</td>\n",
       "      <td>methyl 4-(2,3-dihydroxy-5-methylphenoxy)-2-hyd...</td>\n",
       "      <td>Cc1cc(c(c(c1)Oc2cc(c(c(c2)O)C(=O)OC)C)O)O</td>\n",
       "      <td>non-polymer</td>\n",
       "      <td>304.295</td>\n",
       "      <td>0.0</td>\n",
       "    </tr>\n",
       "    <tr>\n",
       "      <th>76491</th>\n",
       "      <td>7S45</td>\n",
       "      <td>1.20</td>\n",
       "      <td>N-acetyltransferase</td>\n",
       "      <td>Protein</td>\n",
       "      <td>['A']</td>\n",
       "      <td>False</td>\n",
       "      <td>TYD</td>\n",
       "      <td>['A']</td>\n",
       "      <td>THYMIDINE-5'-DIPHOSPHATE</td>\n",
       "      <td>CC1=CN(C(=O)NC1=O)[C@H]2C[C@@H]([C@H](O2)CO[P@...</td>\n",
       "      <td>non-polymer</td>\n",
       "      <td>402.188</td>\n",
       "      <td>0.0</td>\n",
       "    </tr>\n",
       "    <tr>\n",
       "      <th>79292</th>\n",
       "      <td>1TLG</td>\n",
       "      <td>2.20</td>\n",
       "      <td>POLYANDROCARPA LECTIN</td>\n",
       "      <td>Protein</td>\n",
       "      <td>['B', 'A']</td>\n",
       "      <td>False</td>\n",
       "      <td>GAL</td>\n",
       "      <td>['B', 'A']</td>\n",
       "      <td>beta-D-galactopyranose</td>\n",
       "      <td>C([C@@H]1[C@@H]([C@@H]([C@H]([C@@H](O1)O)O)O)O)O</td>\n",
       "      <td>D-saccharide, beta linking</td>\n",
       "      <td>180.156</td>\n",
       "      <td>0.0</td>\n",
       "    </tr>\n",
       "  </tbody>\n",
       "</table>\n",
       "</div>"
      ],
      "text/plain": [
       "      PDB_ID  RESOLUTION                               POLY_NAME POLY_TYPE  \\\n",
       "75198   7KJQ        1.35  Transcriptional regulator, MarR family   Protein   \n",
       "26009   6LG7        1.83        Bromodomain-containing protein 4   Protein   \n",
       "54011   2ZA0        1.70                            Glyoxalase I   Protein   \n",
       "76491   7S45        1.20                     N-acetyltransferase   Protein   \n",
       "79292   1TLG        2.20                   POLYANDROCARPA LECTIN   Protein   \n",
       "\n",
       "      POLY_CHAINS IS_MEMBRANE LIG_ID  LIG_CHAINS  \\\n",
       "75198       ['A']       False    WOM       ['A']   \n",
       "26009       ['A']       False    ECF       ['A']   \n",
       "54011  ['B', 'A']       False    MGI       ['A']   \n",
       "76491       ['A']       False    TYD       ['A']   \n",
       "79292  ['B', 'A']       False    GAL  ['B', 'A']   \n",
       "\n",
       "                                                LIG_NAME  \\\n",
       "75198                                           Picloram   \n",
       "26009  2-azanyl-6-fluoranyl-4-imidazol-1-yl-quinolin-...   \n",
       "54011  methyl 4-(2,3-dihydroxy-5-methylphenoxy)-2-hyd...   \n",
       "76491                           THYMIDINE-5'-DIPHOSPHATE   \n",
       "79292                             beta-D-galactopyranose   \n",
       "\n",
       "                                              LIG_SMILES  \\\n",
       "75198                      c1(c(c(nc(c1Cl)Cl)C(=O)O)Cl)N   \n",
       "26009                     c1cn(cn1)c2cc(nc3c2cc(cc3O)F)N   \n",
       "54011          Cc1cc(c(c(c1)Oc2cc(c(c(c2)O)C(=O)OC)C)O)O   \n",
       "76491  CC1=CN(C(=O)NC1=O)[C@H]2C[C@@H]([C@H](O2)CO[P@...   \n",
       "79292   C([C@@H]1[C@@H]([C@@H]([C@H]([C@@H](O1)O)O)O)O)O   \n",
       "\n",
       "                         LIG_TYPE   LIG_MW  INVESTIGN?  \n",
       "75198                 non-polymer  241.459         0.0  \n",
       "26009                 non-polymer  244.224         1.0  \n",
       "54011                 non-polymer  304.295         0.0  \n",
       "76491                 non-polymer  402.188         0.0  \n",
       "79292  D-saccharide, beta linking  180.156         0.0  "
      ]
     },
     "execution_count": 107,
     "metadata": {},
     "output_type": "execute_result"
    }
   ],
   "source": [
    "pdb_data"
   ]
  },
  {
   "cell_type": "code",
   "execution_count": 112,
   "id": "9bd796a6-47a5-44de-98be-ca0c9b11b6b1",
   "metadata": {},
   "outputs": [
    {
     "data": {
      "text/plain": [
       "5"
      ]
     },
     "execution_count": 112,
     "metadata": {},
     "output_type": "execute_result"
    }
   ],
   "source": [
    "len(pdb_data)"
   ]
  },
  {
   "cell_type": "code",
   "execution_count": 108,
   "id": "403a475d-47fc-4f24-9ee8-8379bdb37391",
   "metadata": {},
   "outputs": [
    {
     "data": {
      "text/plain": [
       "Index(['PDB_ID', 'RESOLUTION', 'POLY_NAME', 'POLY_TYPE', 'POLY_CHAINS',\n",
       "       'IS_MEMBRANE', 'LIG_ID', 'LIG_CHAINS', 'LIG_NAME', 'LIG_SMILES',\n",
       "       'LIG_TYPE', 'LIG_MW', 'INVESTIGN?'],\n",
       "      dtype='object')"
      ]
     },
     "execution_count": 108,
     "metadata": {},
     "output_type": "execute_result"
    }
   ],
   "source": [
    "pdb_data.columns"
   ]
  },
  {
   "cell_type": "code",
   "execution_count": 111,
   "id": "144ac7d5-ac41-41b8-a9c0-e65cdca65c7c",
   "metadata": {},
   "outputs": [
    {
     "name": "stdout",
     "output_type": "stream",
     "text": [
      "pdb/7K/7kjq.cif\n"
     ]
    }
   ],
   "source": [
    "!ls pdb/7K/7kjq.cif"
   ]
  },
  {
   "cell_type": "code",
   "execution_count": 114,
   "id": "81dc6ad1-fdc7-45c6-85af-428065e796e7",
   "metadata": {},
   "outputs": [
    {
     "name": "stdout",
     "output_type": "stream",
     "text": [
      "/home/seabra/work/li/databases/pdb_db\n"
     ]
    }
   ],
   "source": [
    "!pwd"
   ]
  },
  {
   "cell_type": "code",
   "execution_count": 119,
   "id": "1afc4cd5-7bcc-441d-8fc6-aaf421ca1dde",
   "metadata": {},
   "outputs": [
    {
     "name": "stdout",
     "output_type": "stream",
     "text": [
      "3QJG_chains_ABCD.pdb  \u001b[0m\u001b[38;5;33mobsolete\u001b[0m                   \u001b[38;5;33mprocessed_pdbs\u001b[0m\n",
      "\u001b[33mbuild_df_parallel.py\u001b[0m  \u001b[38;5;33mpdb\u001b[0m                        query.log\n",
      "\u001b[33mbuild_df.py\u001b[0m           pdb_full_filtered.pkl      SAVE_pdb_info_df.pkl\n",
      "cofactor_data.csv     pdb_info_df.pkl            small_lig_data.csv\n",
      "df-2.log              pdb_no_cofactors.pkl       TEMP_pdb_info_df.pkl\n",
      "df.log                \u001b[33mpdbquery.ipynb\u001b[0m             \u001b[33mtreat_pdb_files.ipynb\u001b[0m\n",
      "\u001b[33mdownload_pdb.py\u001b[0m       \u001b[33mpdbquery_scratchpad.ipynb\u001b[0m  \u001b[33mtreat_pdbquery.ipynb\u001b[0m\n",
      "failed.pkl            pdb_w_cofactors.pkl        \u001b[33mUntitled.ipynb\u001b[0m\n"
     ]
    }
   ],
   "source": [
    "!ls --color"
   ]
  },
  {
   "cell_type": "code",
   "execution_count": 147,
   "id": "32f898a7-5263-4fae-be8b-24dda2d4cbbb",
   "metadata": {},
   "outputs": [],
   "source": [
    "def get_heavy_atoms_list(residue):\n",
    "    '''Gets a list of the residue atoms, excluding hydrogens'''\n",
    "    atom_list = []\n",
    "    for atom in residue.get_atoms():\n",
    "        if atom.element != 'H': atom_list.append(atom)\n",
    "    return atom_list"
   ]
  },
  {
   "cell_type": "code",
   "execution_count": 133,
   "id": "e44b97cd-e9d2-4b52-83d5-2d0c9f2cc0b3",
   "metadata": {},
   "outputs": [],
   "source": [
    "def get_ligands(structure, ligand):\n",
    "    '''returns a list of ligand residues in the structure'''\n",
    "    ligands = []\n",
    "    for residue in structure.get_residues():\n",
    "        if residue.resname == ligand: ligands.append(residue)\n",
    "    return ligands"
   ]
  },
  {
   "cell_type": "code",
   "execution_count": 191,
   "id": "3002e5b9-4bfd-4743-86ae-bdf9dd712390",
   "metadata": {},
   "outputs": [],
   "source": [
    "class AtomsToPrintSelector(bp.Select):\n",
    "    \"\"\"Class to define the selection atoms\"\"\"\n",
    "    def __init__(self, chains):\n",
    "        self.chains   = [chain.id for chain in chains]\n",
    "        self.nonligand_hets = ['WAT','HOH']\n",
    "        return\n",
    "    \n",
    "    def accept_chain(self, chain):\n",
    "        accept = False\n",
    "        if chain.id in self.chains:\n",
    "            accept = True\n",
    "        return accept\n",
    "    \n",
    "    def accept_residue(self, residue):\n",
    "        # Cleans undesirable HETs \n",
    "        accept = True\n",
    "        res = residue.id[0]\n",
    "        if res !=\" \" and residue.resname in self.nonligand_hets:\n",
    "            accept = False\n",
    "        return accept\n",
    "        \n",
    "    def accept_atom(self, atom):\n",
    "        # Eliminate alternate positions\n",
    "        accept = False\n",
    "        if (not atom.is_disordered()) or atom.get_altloc() == \"A\":\n",
    "            atom.set_altloc(\" \")  # Eliminate alt location ID before output.\n",
    "            accept = True\n",
    "        return accept"
   ]
  },
  {
   "cell_type": "code",
   "execution_count": 128,
   "id": "920e4531-e50c-4632-bfa8-ab1680839d6d",
   "metadata": {},
   "outputs": [],
   "source": [
    "orig_root = Path(\"pdb\")\n",
    "dest_root = Path('processed_pdbs')\n",
    "dest_root.mkdir(exist_ok=True)"
   ]
  },
  {
   "cell_type": "markdown",
   "id": "f6445e63-f73c-476b-853e-d865340fd8ea",
   "metadata": {},
   "source": [
    "We need to iterate the dataframe row-by-row"
   ]
  },
  {
   "cell_type": "code",
   "execution_count": 192,
   "id": "dc6fca74-0500-4e44-9f39-32efd15c35cd",
   "metadata": {},
   "outputs": [
    {
     "data": {
      "application/vnd.jupyter.widget-view+json": {
       "model_id": "57ff8d453b9748eba0cf0c99bc03528e",
       "version_major": 2,
       "version_minor": 0
      },
      "text/plain": [
       "0it [00:00, ?it/s]"
      ]
     },
     "metadata": {},
     "output_type": "display_data"
    },
    {
     "name": "stdout",
     "output_type": "stream",
     "text": [
      "\n",
      "Processing file:  pdb/7K/7kjq.cif\n",
      "  PDBID: 7KJQ    Ligand: WOM \n",
      "  Found ligands:   [<Residue WOM het=H_WOM resseq=201 icode= >]\n",
      "  Keeping ligand:  ('7KJQ', 0, 'A', ('H_WOM', 201, ' '))\n",
      "  Converted to:  ('7KJQ', 0, 'Y', ('H_WOM', 201, ' '))\n",
      "  Found chains within 6 Angstroms of ligand atoms: {<Chain id=Y>, <Chain id=A>}\n",
      "\n",
      "Processing file:  pdb/6L/6lg7.cif\n",
      "  PDBID: 6LG7    Ligand: ECF \n",
      "  Found ligands:   [<Residue ECF het=H_ECF resseq=201 icode= >]\n",
      "  Keeping ligand:  ('6LG7', 0, 'A', ('H_ECF', 201, ' '))\n",
      "  Converted to:  ('6LG7', 0, 'Y', ('H_ECF', 201, ' '))\n",
      "  Found chains within 6 Angstroms of ligand atoms: {<Chain id=Y>, <Chain id=A>}\n",
      "\n",
      "Processing file:  pdb/2Z/2za0.cif\n",
      "  PDBID: 2ZA0    Ligand: MGI \n",
      "  Found ligands:   [<Residue MGI het=H_MGI resseq=300 icode= >, <Residue MGI het=H_MGI resseq=400 icode= >]\n",
      "  Keeping ligand:  ('2ZA0', 0, 'A', ('H_MGI', 300, ' '))\n",
      "  Converted to:  ('2ZA0', 0, 'Y', ('H_MGI', 300, ' '))\n",
      "  Found chains within 6 Angstroms of ligand atoms: {<Chain id=Y>, <Chain id=A>, <Chain id=B>}\n",
      "\n",
      "Processing file:  pdb/7S/7s45.cif\n",
      "  PDBID: 7S45    Ligand: TYD \n",
      "  Found ligands:   [<Residue TYD het=H_TYD resseq=201 icode= >]\n",
      "  Keeping ligand:  ('7S45', 0, 'A', ('H_TYD', 201, ' '))\n",
      "  Converted to:  ('7S45', 0, 'Y', ('H_TYD', 201, ' '))\n",
      "  Found chains within 6 Angstroms of ligand atoms: {<Chain id=Y>, <Chain id=A>}\n",
      "\n",
      "Processing file:  pdb/1T/1tlg.cif\n",
      "  PDBID: 1TLG    Ligand: GAL \n",
      "  Found ligands:   [<Residue GAL het=H_GAL resseq=126 icode= >, <Residue GAL het=H_GAL resseq=126 icode= >]\n",
      "  Keeping ligand:  ('1TLG', 0, 'A', ('H_GAL', 126, ' '))\n",
      "  Converted to:  ('1TLG', 0, 'Y', ('H_GAL', 126, ' '))\n",
      "  Found chains within 6 Angstroms of ligand atoms: {<Chain id=Y>, <Chain id=A>}\n"
     ]
    }
   ],
   "source": [
    "cif_parser = bp.MMCIFParser(QUIET=True)\n",
    "io = bp.PDBIO()\n",
    "cutoff_dist = 6\n",
    "for idx, row in tqdm(pdb_data.iterrows()):\n",
    "    \n",
    "    pdb_id = row.PDB_ID\n",
    "    lig_id = row.LIG_ID\n",
    "    \n",
    "    orig_dir = Path(orig_root, pdb_id[:2])\n",
    "    dest_dir = Path(dest_root, pdb_id[:2])\n",
    "    dest_dir.mkdir(exist_ok=True)\n",
    "    \n",
    "    orig_file = Path(orig_dir, f\"{pdb_id.lower()}.cif\")\n",
    "    dest_file = str(Path(dest_dir, f\"{pdb_id.lower()}.pdb\"))\n",
    "    \n",
    "    if orig_file.exists():\n",
    "        print(\"\\nProcessing file: \", orig_file)\n",
    "        print(f\"  PDBID: {pdb_id}    Ligand: {lig_id} \")\n",
    "    else:\n",
    "        print(\"Could not find file: \", orig_file)\n",
    "        break\n",
    "        \n",
    "    # Read the PDB file\n",
    "    struct = cif_parser.get_structure(pdb_id, orig_file)[0]\n",
    "\n",
    "    # Sometimes, the same ligand appears more than once in the same chain.\n",
    "    # Here we choose to eliminate these repetitions.\n",
    "    ligs = get_ligands(struct, lig_id)\n",
    "    print(\"  Found ligands:  \", ligs)\n",
    "    lig = ligs[0]\n",
    "    print(\"  Keeping ligand: \", lig.full_id)\n",
    "    \n",
    "    for ligand in ligs:\n",
    "        orig_chain = ligand.get_parent()\n",
    "        ligand.detach_parent()\n",
    "        orig_chain.detach_child(ligand.get_id())\n",
    " \n",
    "    # For convenience, lets make all ligants to be in chain \"Y\"\n",
    "    chain_Y = bp.Chain.Chain('Y')\n",
    "    chain_Y.add(lig)\n",
    "    lig.set_parent(chain_Y)\n",
    "    struct.add(chain_Y)\n",
    "    print(\"  Converted to: \", lig.full_id)\n",
    "    \n",
    "    # Now we need to find all chains with any atoms within cutoff_dist from the ligand\n",
    "    neighbor_searcher = bp.NeighborSearch(bp.Selection.unfold_entities(struct, 'A'), bucket_size=10)\n",
    "    \n",
    "    \n",
    "    closest = set()\n",
    "    for atom in get_heavy_atoms_list(lig):\n",
    "        #print(neighbor_searcher.search(atom.coord,5, level='R'))\n",
    "        closest = closest | set(neighbor_searcher.search(atom.coord,cutoff_dist, level='C'))\n",
    "    \n",
    "    print(f\"  Found chains within {cutoff_dist} Angstroms of ligand atoms: {closest}\")\n",
    "    \n",
    "    # now, save only the atoms from these chains to a new PDB file\n",
    "    selector = AtomsToPrintSelector(closest)\n",
    "    io.set_structure(struct)\n",
    "    io.save(dest_file,select=selector,\n",
    "            write_end=True, preserve_atom_numbering=False)\n",
    "    "
   ]
  },
  {
   "cell_type": "code",
   "execution_count": 163,
   "id": "83f23fae-e21b-4ebc-b173-bb895e582df7",
   "metadata": {},
   "outputs": [
    {
     "data": {
      "text/plain": [
       "str"
      ]
     },
     "execution_count": 163,
     "metadata": {},
     "output_type": "execute_result"
    }
   ],
   "source": [
    "type(chain_Y.id)"
   ]
  },
  {
   "cell_type": "code",
   "execution_count": 172,
   "id": "87a8afd8-fc92-4853-b6bc-2feb91c74702",
   "metadata": {},
   "outputs": [
    {
     "data": {
      "text/plain": [
       "[]"
      ]
     },
     "execution_count": 172,
     "metadata": {},
     "output_type": "execute_result"
    }
   ],
   "source": [
    "chain_Y.detach_child"
   ]
  },
  {
   "cell_type": "code",
   "execution_count": 182,
   "id": "c747f495-3ffd-476c-8db1-4540d3ff4afe",
   "metadata": {},
   "outputs": [
    {
     "data": {
      "text/plain": [
       "('H_WOM', 201, ' ')"
      ]
     },
     "execution_count": 182,
     "metadata": {},
     "output_type": "execute_result"
    }
   ],
   "source": [
    "lig.get_id()"
   ]
  },
  {
   "cell_type": "code",
   "execution_count": null,
   "id": "ffef2296-97ac-4a15-a798-a94a2a2d75f7",
   "metadata": {},
   "outputs": [],
   "source": []
  }
 ],
 "metadata": {
  "kernelspec": {
   "display_name": "biopython",
   "language": "python",
   "name": "biopython"
  },
  "language_info": {
   "codemirror_mode": {
    "name": "ipython",
    "version": 3
   },
   "file_extension": ".py",
   "mimetype": "text/x-python",
   "name": "python",
   "nbconvert_exporter": "python",
   "pygments_lexer": "ipython3",
   "version": "3.11.0"
  }
 },
 "nbformat": 4,
 "nbformat_minor": 5
}
