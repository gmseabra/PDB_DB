{
 "cells": [
  {
   "cell_type": "code",
   "execution_count": 1,
   "id": "7c2b2ab9-0fd4-4bae-a494-fc357df4364e",
   "metadata": {},
   "outputs": [
    {
     "name": "stdout",
     "output_type": "stream",
     "text": [
      "RDKit Version:  2022.09.5\n"
     ]
    }
   ],
   "source": [
    "# -- RDKit\n",
    "import rdkit\n",
    "from rdkit import Chem\n",
    "from rdkit.Chem import Draw, PandasTools\n",
    "from rdkit.Chem.Draw import IPythonConsole\n",
    "print(\"RDKit Version: \", rdkit.__version__)"
   ]
  },
  {
   "cell_type": "code",
   "execution_count": 2,
   "id": "90e7b9ec-e8d3-48d9-8ef5-42196526ab88",
   "metadata": {},
   "outputs": [],
   "source": [
    "mol=Chem.MolFromSmiles('C[C@H](CC(C)(C)O)O')"
   ]
  },
  {
   "cell_type": "code",
   "execution_count": 3,
   "id": "fbcc2174-80ce-4115-b144-104054caca96",
   "metadata": {},
   "outputs": [
    {
     "data": {
      "image/png": "[encoded data removed]",
      "text/plain": [
       "<rdkit.Chem.rdchem.Mol at 0x7f11c17ad8c0>"
      ]
     },
     "execution_count": 3,
     "metadata": {},
     "output_type": "execute_result"
    }
   ],
   "source": [
    "mol"
   ]
  },
  {
   "cell_type": "code",
   "execution_count": 4,
   "id": "33ff9b20-52c4-44cf-b825-caaa581f9843",
   "metadata": {},
   "outputs": [
    {
     "data": {
      "text/plain": [
       "<rdkit.Chem.rdchem._ROAtomSeq at 0x7f11c17ae3b0>"
      ]
     },
     "execution_count": 4,
     "metadata": {},
     "output_type": "execute_result"
    }
   ],
   "source": [
    "mol.GetAtoms()"
   ]
  },
  {
   "cell_type": "code",
   "execution_count": 5,
   "id": "7d78d037-8a76-4b7f-8b61-e3aa9d5b30e5",
   "metadata": {},
   "outputs": [
    {
     "data": {
      "text/plain": [
       "8"
      ]
     },
     "execution_count": 5,
     "metadata": {},
     "output_type": "execute_result"
    }
   ],
   "source": [
    "len(mol.GetAtoms())"
   ]
  },
  {
   "cell_type": "code",
   "execution_count": null,
   "id": "e9d828fd-c9cd-4317-8b12-df507b74b410",
   "metadata": {},
   "outputs": [],
   "source": []
  }
 ],
 "metadata": {
  "kernelspec": {
   "display_name": "biopython",
   "language": "python",
   "name": "biopython"
  },
  "language_info": {
   "codemirror_mode": {
    "name": "ipython",
    "version": 3
   },
   "file_extension": ".py",
   "mimetype": "text/x-python",
   "name": "python",
   "nbconvert_exporter": "python",
   "pygments_lexer": "ipython3",
   "version": "3.11.0"
  }
 },
 "nbformat": 4,
 "nbformat_minor": 5
}
